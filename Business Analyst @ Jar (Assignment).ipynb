{
 "cells": [
  {
   "cell_type": "markdown",
   "id": "5db98a95",
   "metadata": {},
   "source": [
    "### Assignment for Business Analyst Intern @Jar\n",
    "\n",
    "###### 1. Walmart Sales Analysis:\n",
    "\n",
    "- A. Analyze the performance of sales and revenue at the city and branch level.\n",
    "- B. What is the average price of an item sold at each branch of the city.\n",
    "- C. Analyze the performance of sales and revenue, Month over Month across the Product line, Gender, and Payment Method, and  s      identify the focus areas to get better sales for April 2019.\n"
   ]
  },
  {
   "cell_type": "markdown",
   "id": "bb0c4ce4",
   "metadata": {},
   "source": [
    "## Importing important Libraries"
   ]
  },
  {
   "cell_type": "code",
   "execution_count": 1,
   "id": "1c56272a",
   "metadata": {},
   "outputs": [],
   "source": [
    "import pandas as pd\n",
    "import numpy as np\n",
    "import matplotlib.pyplot as plt\n",
    "import seaborn as sns"
   ]
  },
  {
   "cell_type": "markdown",
   "id": "df1cfa77",
   "metadata": {},
   "source": [
    "## Read the Dataset"
   ]
  },
  {
   "cell_type": "code",
   "execution_count": 2,
   "id": "535580c3",
   "metadata": {},
   "outputs": [],
   "source": [
    "data=pd.read_excel(\"Walmart Sales.xlsx\")"
   ]
  },
  {
   "cell_type": "markdown",
   "id": "eadd3cc7",
   "metadata": {},
   "source": [
    "## Checking First & Last 5 rows of data"
   ]
  },
  {
   "cell_type": "code",
   "execution_count": 3,
   "id": "fb494f65",
   "metadata": {},
   "outputs": [
    {
     "data": {
      "text/html": [
       "<div>\n",
       "<style scoped>\n",
       "    .dataframe tbody tr th:only-of-type {\n",
       "        vertical-align: middle;\n",
       "    }\n",
       "\n",
       "    .dataframe tbody tr th {\n",
       "        vertical-align: top;\n",
       "    }\n",
       "\n",
       "    .dataframe thead th {\n",
       "        text-align: right;\n",
       "    }\n",
       "</style>\n",
       "<table border=\"1\" class=\"dataframe\">\n",
       "  <thead>\n",
       "    <tr style=\"text-align: right;\">\n",
       "      <th></th>\n",
       "      <th>Invoice ID</th>\n",
       "      <th>Branch</th>\n",
       "      <th>City</th>\n",
       "      <th>Customer type</th>\n",
       "      <th>Gender</th>\n",
       "      <th>Product line</th>\n",
       "      <th>Unit price</th>\n",
       "      <th>Quantity</th>\n",
       "      <th>Date</th>\n",
       "      <th>Time</th>\n",
       "      <th>Payment</th>\n",
       "      <th>Rating</th>\n",
       "    </tr>\n",
       "  </thead>\n",
       "  <tbody>\n",
       "    <tr>\n",
       "      <th>0</th>\n",
       "      <td>750-67-8428</td>\n",
       "      <td>A</td>\n",
       "      <td>Yangon</td>\n",
       "      <td>Member</td>\n",
       "      <td>Female</td>\n",
       "      <td>Health and beauty</td>\n",
       "      <td>74.69</td>\n",
       "      <td>7</td>\n",
       "      <td>1/5/2019</td>\n",
       "      <td>13:08:00</td>\n",
       "      <td>Ewallet</td>\n",
       "      <td>9.1</td>\n",
       "    </tr>\n",
       "    <tr>\n",
       "      <th>1</th>\n",
       "      <td>226-31-3081</td>\n",
       "      <td>A</td>\n",
       "      <td>Naypyitaw</td>\n",
       "      <td>Normal</td>\n",
       "      <td>Female</td>\n",
       "      <td>Electronic accessories</td>\n",
       "      <td>15.28</td>\n",
       "      <td>5</td>\n",
       "      <td>3/8/2019</td>\n",
       "      <td>10:29:00</td>\n",
       "      <td>Cash</td>\n",
       "      <td>9.6</td>\n",
       "    </tr>\n",
       "    <tr>\n",
       "      <th>2</th>\n",
       "      <td>631-41-3108</td>\n",
       "      <td>A</td>\n",
       "      <td>Yangon</td>\n",
       "      <td>Normal</td>\n",
       "      <td>Male</td>\n",
       "      <td>Home and lifestyle</td>\n",
       "      <td>46.33</td>\n",
       "      <td>7</td>\n",
       "      <td>3/3/2019</td>\n",
       "      <td>13:23:00</td>\n",
       "      <td>Credit card</td>\n",
       "      <td>7.4</td>\n",
       "    </tr>\n",
       "    <tr>\n",
       "      <th>3</th>\n",
       "      <td>123-19-1176</td>\n",
       "      <td>B</td>\n",
       "      <td>Yangon</td>\n",
       "      <td>Member</td>\n",
       "      <td>Male</td>\n",
       "      <td>Health and beauty</td>\n",
       "      <td>58.22</td>\n",
       "      <td>8</td>\n",
       "      <td>1/27/2019</td>\n",
       "      <td>20:33:00</td>\n",
       "      <td>Ewallet</td>\n",
       "      <td>8.4</td>\n",
       "    </tr>\n",
       "    <tr>\n",
       "      <th>4</th>\n",
       "      <td>373-73-7910</td>\n",
       "      <td>C</td>\n",
       "      <td>Yangon</td>\n",
       "      <td>Normal</td>\n",
       "      <td>Male</td>\n",
       "      <td>Sports and travel</td>\n",
       "      <td>86.31</td>\n",
       "      <td>7</td>\n",
       "      <td>2/8/2019</td>\n",
       "      <td>10:37:00</td>\n",
       "      <td>Ewallet</td>\n",
       "      <td>5.3</td>\n",
       "    </tr>\n",
       "  </tbody>\n",
       "</table>\n",
       "</div>"
      ],
      "text/plain": [
       "    Invoice ID Branch       City Customer type  Gender  \\\n",
       "0  750-67-8428      A     Yangon        Member  Female   \n",
       "1  226-31-3081      A  Naypyitaw        Normal  Female   \n",
       "2  631-41-3108      A     Yangon        Normal    Male   \n",
       "3  123-19-1176      B     Yangon        Member    Male   \n",
       "4  373-73-7910      C     Yangon        Normal    Male   \n",
       "\n",
       "             Product line  Unit price  Quantity       Date      Time  \\\n",
       "0       Health and beauty       74.69         7   1/5/2019  13:08:00   \n",
       "1  Electronic accessories       15.28         5   3/8/2019  10:29:00   \n",
       "2      Home and lifestyle       46.33         7   3/3/2019  13:23:00   \n",
       "3       Health and beauty       58.22         8  1/27/2019  20:33:00   \n",
       "4       Sports and travel       86.31         7   2/8/2019  10:37:00   \n",
       "\n",
       "       Payment  Rating  \n",
       "0      Ewallet     9.1  \n",
       "1         Cash     9.6  \n",
       "2  Credit card     7.4  \n",
       "3      Ewallet     8.4  \n",
       "4      Ewallet     5.3  "
      ]
     },
     "execution_count": 3,
     "metadata": {},
     "output_type": "execute_result"
    }
   ],
   "source": [
    "data.head()"
   ]
  },
  {
   "cell_type": "code",
   "execution_count": 4,
   "id": "56480f2b",
   "metadata": {},
   "outputs": [
    {
     "data": {
      "text/html": [
       "<div>\n",
       "<style scoped>\n",
       "    .dataframe tbody tr th:only-of-type {\n",
       "        vertical-align: middle;\n",
       "    }\n",
       "\n",
       "    .dataframe tbody tr th {\n",
       "        vertical-align: top;\n",
       "    }\n",
       "\n",
       "    .dataframe thead th {\n",
       "        text-align: right;\n",
       "    }\n",
       "</style>\n",
       "<table border=\"1\" class=\"dataframe\">\n",
       "  <thead>\n",
       "    <tr style=\"text-align: right;\">\n",
       "      <th></th>\n",
       "      <th>Invoice ID</th>\n",
       "      <th>Branch</th>\n",
       "      <th>City</th>\n",
       "      <th>Customer type</th>\n",
       "      <th>Gender</th>\n",
       "      <th>Product line</th>\n",
       "      <th>Unit price</th>\n",
       "      <th>Quantity</th>\n",
       "      <th>Date</th>\n",
       "      <th>Time</th>\n",
       "      <th>Payment</th>\n",
       "      <th>Rating</th>\n",
       "    </tr>\n",
       "  </thead>\n",
       "  <tbody>\n",
       "    <tr>\n",
       "      <th>995</th>\n",
       "      <td>233-67-5758</td>\n",
       "      <td>A</td>\n",
       "      <td>Naypyitaw</td>\n",
       "      <td>Normal</td>\n",
       "      <td>Male</td>\n",
       "      <td>Health and beauty</td>\n",
       "      <td>40.35</td>\n",
       "      <td>1</td>\n",
       "      <td>1/29/2019</td>\n",
       "      <td>13:46:00</td>\n",
       "      <td>Ewallet</td>\n",
       "      <td>6.2</td>\n",
       "    </tr>\n",
       "    <tr>\n",
       "      <th>996</th>\n",
       "      <td>303-96-2227</td>\n",
       "      <td>A</td>\n",
       "      <td>Mandalay</td>\n",
       "      <td>Normal</td>\n",
       "      <td>Female</td>\n",
       "      <td>Home and lifestyle</td>\n",
       "      <td>97.38</td>\n",
       "      <td>10</td>\n",
       "      <td>3/2/2019</td>\n",
       "      <td>17:16:00</td>\n",
       "      <td>Ewallet</td>\n",
       "      <td>4.4</td>\n",
       "    </tr>\n",
       "    <tr>\n",
       "      <th>997</th>\n",
       "      <td>727-02-1313</td>\n",
       "      <td>A</td>\n",
       "      <td>Yangon</td>\n",
       "      <td>Member</td>\n",
       "      <td>Male</td>\n",
       "      <td>Food and beverages</td>\n",
       "      <td>31.84</td>\n",
       "      <td>1</td>\n",
       "      <td>2/9/2019</td>\n",
       "      <td>13:22:00</td>\n",
       "      <td>Cash</td>\n",
       "      <td>7.7</td>\n",
       "    </tr>\n",
       "    <tr>\n",
       "      <th>998</th>\n",
       "      <td>347-56-2442</td>\n",
       "      <td>B</td>\n",
       "      <td>Yangon</td>\n",
       "      <td>Normal</td>\n",
       "      <td>Male</td>\n",
       "      <td>Home and lifestyle</td>\n",
       "      <td>65.82</td>\n",
       "      <td>1</td>\n",
       "      <td>2/22/2019</td>\n",
       "      <td>15:33:00</td>\n",
       "      <td>Cash</td>\n",
       "      <td>4.1</td>\n",
       "    </tr>\n",
       "    <tr>\n",
       "      <th>999</th>\n",
       "      <td>849-09-3807</td>\n",
       "      <td>C</td>\n",
       "      <td>Yangon</td>\n",
       "      <td>Member</td>\n",
       "      <td>Female</td>\n",
       "      <td>Fashion accessories</td>\n",
       "      <td>88.34</td>\n",
       "      <td>7</td>\n",
       "      <td>2/18/2019</td>\n",
       "      <td>13:28:00</td>\n",
       "      <td>Cash</td>\n",
       "      <td>6.6</td>\n",
       "    </tr>\n",
       "  </tbody>\n",
       "</table>\n",
       "</div>"
      ],
      "text/plain": [
       "      Invoice ID Branch       City Customer type  Gender         Product line  \\\n",
       "995  233-67-5758      A  Naypyitaw        Normal    Male    Health and beauty   \n",
       "996  303-96-2227      A   Mandalay        Normal  Female   Home and lifestyle   \n",
       "997  727-02-1313      A     Yangon        Member    Male   Food and beverages   \n",
       "998  347-56-2442      B     Yangon        Normal    Male   Home and lifestyle   \n",
       "999  849-09-3807      C     Yangon        Member  Female  Fashion accessories   \n",
       "\n",
       "     Unit price  Quantity       Date      Time  Payment  Rating  \n",
       "995       40.35         1  1/29/2019  13:46:00  Ewallet     6.2  \n",
       "996       97.38        10   3/2/2019  17:16:00  Ewallet     4.4  \n",
       "997       31.84         1   2/9/2019  13:22:00     Cash     7.7  \n",
       "998       65.82         1  2/22/2019  15:33:00     Cash     4.1  \n",
       "999       88.34         7  2/18/2019  13:28:00     Cash     6.6  "
      ]
     },
     "execution_count": 4,
     "metadata": {},
     "output_type": "execute_result"
    }
   ],
   "source": [
    "data.tail()"
   ]
  },
  {
   "cell_type": "markdown",
   "id": "763e6de5",
   "metadata": {},
   "source": [
    "## Shape of the data (Rows & Columns)"
   ]
  },
  {
   "cell_type": "code",
   "execution_count": 5,
   "id": "5f893be3",
   "metadata": {},
   "outputs": [
    {
     "data": {
      "text/plain": [
       "(1000, 12)"
      ]
     },
     "execution_count": 5,
     "metadata": {},
     "output_type": "execute_result"
    }
   ],
   "source": [
    "data.shape"
   ]
  },
  {
   "cell_type": "markdown",
   "id": "937e59ac",
   "metadata": {},
   "source": [
    "- Walmart dataset has 1000 rows and 12 columns"
   ]
  },
  {
   "cell_type": "markdown",
   "id": "3635a81b",
   "metadata": {},
   "source": [
    "## Checking null values in the dataset"
   ]
  },
  {
   "cell_type": "code",
   "execution_count": 6,
   "id": "abb2f924",
   "metadata": {},
   "outputs": [
    {
     "data": {
      "text/plain": [
       "Invoice ID       0\n",
       "Branch           0\n",
       "City             0\n",
       "Customer type    0\n",
       "Gender           0\n",
       "Product line     0\n",
       "Unit price       0\n",
       "Quantity         0\n",
       "Date             0\n",
       "Time             0\n",
       "Payment          0\n",
       "Rating           0\n",
       "dtype: int64"
      ]
     },
     "execution_count": 6,
     "metadata": {},
     "output_type": "execute_result"
    }
   ],
   "source": [
    "data.isnull().sum()"
   ]
  },
  {
   "cell_type": "markdown",
   "id": "7df40ddd",
   "metadata": {},
   "source": [
    "- There are no null values in the dataset"
   ]
  },
  {
   "cell_type": "markdown",
   "id": "fcfddc89",
   "metadata": {},
   "source": [
    "## Checking features information or data type"
   ]
  },
  {
   "cell_type": "code",
   "execution_count": 7,
   "id": "f152188c",
   "metadata": {},
   "outputs": [
    {
     "name": "stdout",
     "output_type": "stream",
     "text": [
      "<class 'pandas.core.frame.DataFrame'>\n",
      "RangeIndex: 1000 entries, 0 to 999\n",
      "Data columns (total 12 columns):\n",
      " #   Column         Non-Null Count  Dtype  \n",
      "---  ------         --------------  -----  \n",
      " 0   Invoice ID     1000 non-null   object \n",
      " 1   Branch         1000 non-null   object \n",
      " 2   City           1000 non-null   object \n",
      " 3   Customer type  1000 non-null   object \n",
      " 4   Gender         1000 non-null   object \n",
      " 5   Product line   1000 non-null   object \n",
      " 6   Unit price     1000 non-null   float64\n",
      " 7   Quantity       1000 non-null   int64  \n",
      " 8   Date           1000 non-null   object \n",
      " 9   Time           1000 non-null   object \n",
      " 10  Payment        1000 non-null   object \n",
      " 11  Rating         1000 non-null   float64\n",
      "dtypes: float64(2), int64(1), object(9)\n",
      "memory usage: 93.9+ KB\n"
     ]
    }
   ],
   "source": [
    "data.info()"
   ]
  },
  {
   "cell_type": "markdown",
   "id": "542968e7",
   "metadata": {},
   "source": [
    "- Date column having datatype as object so, i have to change the datatype as datetime and also drop unnecessary columns (Invoice ID, Time, Rating)"
   ]
  },
  {
   "cell_type": "markdown",
   "id": "39d0d28a",
   "metadata": {},
   "source": [
    "## Drop unnecessary columns"
   ]
  },
  {
   "cell_type": "code",
   "execution_count": 8,
   "id": "059e3e3a",
   "metadata": {},
   "outputs": [],
   "source": [
    "data.drop([\"Invoice ID\",\"Time\",\"Rating\"], axis=1, inplace=True)"
   ]
  },
  {
   "cell_type": "markdown",
   "id": "1518323c",
   "metadata": {},
   "source": [
    "## Change the data type"
   ]
  },
  {
   "cell_type": "code",
   "execution_count": 9,
   "id": "652a07a5",
   "metadata": {},
   "outputs": [],
   "source": [
    "data[\"Date\"]=pd.to_datetime(data[\"Date\"])"
   ]
  },
  {
   "cell_type": "markdown",
   "id": "41d4aba2",
   "metadata": {},
   "source": [
    "## Now again check the dataset information"
   ]
  },
  {
   "cell_type": "code",
   "execution_count": 10,
   "id": "e1f60c47",
   "metadata": {},
   "outputs": [
    {
     "name": "stdout",
     "output_type": "stream",
     "text": [
      "<class 'pandas.core.frame.DataFrame'>\n",
      "RangeIndex: 1000 entries, 0 to 999\n",
      "Data columns (total 9 columns):\n",
      " #   Column         Non-Null Count  Dtype         \n",
      "---  ------         --------------  -----         \n",
      " 0   Branch         1000 non-null   object        \n",
      " 1   City           1000 non-null   object        \n",
      " 2   Customer type  1000 non-null   object        \n",
      " 3   Gender         1000 non-null   object        \n",
      " 4   Product line   1000 non-null   object        \n",
      " 5   Unit price     1000 non-null   float64       \n",
      " 6   Quantity       1000 non-null   int64         \n",
      " 7   Date           1000 non-null   datetime64[ns]\n",
      " 8   Payment        1000 non-null   object        \n",
      "dtypes: datetime64[ns](1), float64(1), int64(1), object(6)\n",
      "memory usage: 70.4+ KB\n"
     ]
    }
   ],
   "source": [
    "data.info()"
   ]
  },
  {
   "cell_type": "markdown",
   "id": "411bd25e",
   "metadata": {},
   "source": [
    "## Extracting Month & Year from Date column according to the requirment"
   ]
  },
  {
   "cell_type": "code",
   "execution_count": 11,
   "id": "39ab1839",
   "metadata": {},
   "outputs": [],
   "source": [
    "data[\"Month\"]=data[\"Date\"].dt.month\n",
    "data[\"Year\"]=data[\"Date\"].dt.year"
   ]
  },
  {
   "cell_type": "markdown",
   "id": "40bc8b7a",
   "metadata": {},
   "source": [
    "## First 5 rows of data"
   ]
  },
  {
   "cell_type": "code",
   "execution_count": 12,
   "id": "dc4b3ac8",
   "metadata": {
    "scrolled": true
   },
   "outputs": [
    {
     "data": {
      "text/html": [
       "<div>\n",
       "<style scoped>\n",
       "    .dataframe tbody tr th:only-of-type {\n",
       "        vertical-align: middle;\n",
       "    }\n",
       "\n",
       "    .dataframe tbody tr th {\n",
       "        vertical-align: top;\n",
       "    }\n",
       "\n",
       "    .dataframe thead th {\n",
       "        text-align: right;\n",
       "    }\n",
       "</style>\n",
       "<table border=\"1\" class=\"dataframe\">\n",
       "  <thead>\n",
       "    <tr style=\"text-align: right;\">\n",
       "      <th></th>\n",
       "      <th>Branch</th>\n",
       "      <th>City</th>\n",
       "      <th>Customer type</th>\n",
       "      <th>Gender</th>\n",
       "      <th>Product line</th>\n",
       "      <th>Unit price</th>\n",
       "      <th>Quantity</th>\n",
       "      <th>Date</th>\n",
       "      <th>Payment</th>\n",
       "      <th>Month</th>\n",
       "      <th>Year</th>\n",
       "    </tr>\n",
       "  </thead>\n",
       "  <tbody>\n",
       "    <tr>\n",
       "      <th>0</th>\n",
       "      <td>A</td>\n",
       "      <td>Yangon</td>\n",
       "      <td>Member</td>\n",
       "      <td>Female</td>\n",
       "      <td>Health and beauty</td>\n",
       "      <td>74.69</td>\n",
       "      <td>7</td>\n",
       "      <td>2019-01-05</td>\n",
       "      <td>Ewallet</td>\n",
       "      <td>1</td>\n",
       "      <td>2019</td>\n",
       "    </tr>\n",
       "    <tr>\n",
       "      <th>1</th>\n",
       "      <td>A</td>\n",
       "      <td>Naypyitaw</td>\n",
       "      <td>Normal</td>\n",
       "      <td>Female</td>\n",
       "      <td>Electronic accessories</td>\n",
       "      <td>15.28</td>\n",
       "      <td>5</td>\n",
       "      <td>2019-03-08</td>\n",
       "      <td>Cash</td>\n",
       "      <td>3</td>\n",
       "      <td>2019</td>\n",
       "    </tr>\n",
       "    <tr>\n",
       "      <th>2</th>\n",
       "      <td>A</td>\n",
       "      <td>Yangon</td>\n",
       "      <td>Normal</td>\n",
       "      <td>Male</td>\n",
       "      <td>Home and lifestyle</td>\n",
       "      <td>46.33</td>\n",
       "      <td>7</td>\n",
       "      <td>2019-03-03</td>\n",
       "      <td>Credit card</td>\n",
       "      <td>3</td>\n",
       "      <td>2019</td>\n",
       "    </tr>\n",
       "    <tr>\n",
       "      <th>3</th>\n",
       "      <td>B</td>\n",
       "      <td>Yangon</td>\n",
       "      <td>Member</td>\n",
       "      <td>Male</td>\n",
       "      <td>Health and beauty</td>\n",
       "      <td>58.22</td>\n",
       "      <td>8</td>\n",
       "      <td>2019-01-27</td>\n",
       "      <td>Ewallet</td>\n",
       "      <td>1</td>\n",
       "      <td>2019</td>\n",
       "    </tr>\n",
       "    <tr>\n",
       "      <th>4</th>\n",
       "      <td>C</td>\n",
       "      <td>Yangon</td>\n",
       "      <td>Normal</td>\n",
       "      <td>Male</td>\n",
       "      <td>Sports and travel</td>\n",
       "      <td>86.31</td>\n",
       "      <td>7</td>\n",
       "      <td>2019-02-08</td>\n",
       "      <td>Ewallet</td>\n",
       "      <td>2</td>\n",
       "      <td>2019</td>\n",
       "    </tr>\n",
       "  </tbody>\n",
       "</table>\n",
       "</div>"
      ],
      "text/plain": [
       "  Branch       City Customer type  Gender            Product line  Unit price  \\\n",
       "0      A     Yangon        Member  Female       Health and beauty       74.69   \n",
       "1      A  Naypyitaw        Normal  Female  Electronic accessories       15.28   \n",
       "2      A     Yangon        Normal    Male      Home and lifestyle       46.33   \n",
       "3      B     Yangon        Member    Male       Health and beauty       58.22   \n",
       "4      C     Yangon        Normal    Male       Sports and travel       86.31   \n",
       "\n",
       "   Quantity       Date      Payment  Month  Year  \n",
       "0         7 2019-01-05      Ewallet      1  2019  \n",
       "1         5 2019-03-08         Cash      3  2019  \n",
       "2         7 2019-03-03  Credit card      3  2019  \n",
       "3         8 2019-01-27      Ewallet      1  2019  \n",
       "4         7 2019-02-08      Ewallet      2  2019  "
      ]
     },
     "execution_count": 12,
     "metadata": {},
     "output_type": "execute_result"
    }
   ],
   "source": [
    "data.head()"
   ]
  },
  {
   "cell_type": "markdown",
   "id": "5e05548f",
   "metadata": {},
   "source": [
    "## Shape of the finl dataset"
   ]
  },
  {
   "cell_type": "code",
   "execution_count": 13,
   "id": "4c290946",
   "metadata": {},
   "outputs": [
    {
     "data": {
      "text/plain": [
       "(1000, 11)"
      ]
     },
     "execution_count": 13,
     "metadata": {},
     "output_type": "execute_result"
    }
   ],
   "source": [
    "data.shape"
   ]
  },
  {
   "cell_type": "markdown",
   "id": "3146f167",
   "metadata": {},
   "source": [
    "## Checking all important features with there unique values"
   ]
  },
  {
   "cell_type": "code",
   "execution_count": 14,
   "id": "f089b14c",
   "metadata": {},
   "outputs": [
    {
     "data": {
      "text/plain": [
       "array(['A', 'B', 'C'], dtype=object)"
      ]
     },
     "execution_count": 14,
     "metadata": {},
     "output_type": "execute_result"
    }
   ],
   "source": [
    "data[\"Branch\"].unique()"
   ]
  },
  {
   "cell_type": "code",
   "execution_count": 15,
   "id": "01fbb6d2",
   "metadata": {
    "scrolled": true
   },
   "outputs": [
    {
     "data": {
      "text/plain": [
       "array(['Yangon', 'Naypyitaw', 'Mandalay'], dtype=object)"
      ]
     },
     "execution_count": 15,
     "metadata": {},
     "output_type": "execute_result"
    }
   ],
   "source": [
    "data[\"City\"].unique()"
   ]
  },
  {
   "cell_type": "code",
   "execution_count": 16,
   "id": "063cfdb0",
   "metadata": {},
   "outputs": [
    {
     "data": {
      "text/plain": [
       "array(['Health and beauty', 'Electronic accessories',\n",
       "       'Home and lifestyle', 'Sports and travel', 'Food and beverages',\n",
       "       'Fashion accessories'], dtype=object)"
      ]
     },
     "execution_count": 16,
     "metadata": {},
     "output_type": "execute_result"
    }
   ],
   "source": [
    "data[\"Product line\"].unique()"
   ]
  },
  {
   "cell_type": "code",
   "execution_count": 17,
   "id": "4a7a7fd4",
   "metadata": {},
   "outputs": [
    {
     "data": {
      "text/plain": [
       "array(['Ewallet', 'Cash', 'Credit card'], dtype=object)"
      ]
     },
     "execution_count": 17,
     "metadata": {},
     "output_type": "execute_result"
    }
   ],
   "source": [
    "data[\"Payment\"].unique()"
   ]
  },
  {
   "cell_type": "code",
   "execution_count": 18,
   "id": "6609af83",
   "metadata": {},
   "outputs": [
    {
     "data": {
      "text/plain": [
       "array([1, 3, 2], dtype=int64)"
      ]
     },
     "execution_count": 18,
     "metadata": {},
     "output_type": "execute_result"
    }
   ],
   "source": [
    "data[\"Month\"].unique()"
   ]
  },
  {
   "cell_type": "code",
   "execution_count": 19,
   "id": "6bcdc108",
   "metadata": {},
   "outputs": [
    {
     "data": {
      "text/plain": [
       "array([2019], dtype=int64)"
      ]
     },
     "execution_count": 19,
     "metadata": {},
     "output_type": "execute_result"
    }
   ],
   "source": [
    "data[\"Year\"].unique()"
   ]
  },
  {
   "cell_type": "markdown",
   "id": "dbdb9795",
   "metadata": {},
   "source": [
    "## A. Analyze the performance of sales and revenue at the city and branch level"
   ]
  },
  {
   "cell_type": "markdown",
   "id": "b57f0652",
   "metadata": {},
   "source": [
    "## Sales"
   ]
  },
  {
   "cell_type": "code",
   "execution_count": 20,
   "id": "52f3ddd2",
   "metadata": {},
   "outputs": [
    {
     "name": "stderr",
     "output_type": "stream",
     "text": [
      "C:\\Users\\DELL\\AppData\\Local\\Temp\\ipykernel_3240\\2259034654.py:1: FutureWarning: Indexing with multiple keys (implicitly converted to a tuple of keys) will be deprecated, use a list instead.\n",
      "  sales=data.groupby([\"City\",\"Branch\"])[\"Unit price\",\"Quantity\"].sum()\n"
     ]
    },
    {
     "data": {
      "text/html": [
       "<div>\n",
       "<style scoped>\n",
       "    .dataframe tbody tr th:only-of-type {\n",
       "        vertical-align: middle;\n",
       "    }\n",
       "\n",
       "    .dataframe tbody tr th {\n",
       "        vertical-align: top;\n",
       "    }\n",
       "\n",
       "    .dataframe thead th {\n",
       "        text-align: right;\n",
       "    }\n",
       "</style>\n",
       "<table border=\"1\" class=\"dataframe\">\n",
       "  <thead>\n",
       "    <tr style=\"text-align: right;\">\n",
       "      <th></th>\n",
       "      <th></th>\n",
       "      <th>Unit price</th>\n",
       "      <th>Quantity</th>\n",
       "    </tr>\n",
       "    <tr>\n",
       "      <th>City</th>\n",
       "      <th>Branch</th>\n",
       "      <th></th>\n",
       "      <th></th>\n",
       "    </tr>\n",
       "  </thead>\n",
       "  <tbody>\n",
       "    <tr>\n",
       "      <th rowspan=\"3\" valign=\"top\">Mandalay</th>\n",
       "      <th>A</th>\n",
       "      <td>6349.11</td>\n",
       "      <td>637</td>\n",
       "    </tr>\n",
       "    <tr>\n",
       "      <th>B</th>\n",
       "      <td>6623.73</td>\n",
       "      <td>664</td>\n",
       "    </tr>\n",
       "    <tr>\n",
       "      <th>C</th>\n",
       "      <td>5506.04</td>\n",
       "      <td>519</td>\n",
       "    </tr>\n",
       "    <tr>\n",
       "      <th rowspan=\"3\" valign=\"top\">Naypyitaw</th>\n",
       "      <th>A</th>\n",
       "      <td>5953.55</td>\n",
       "      <td>648</td>\n",
       "    </tr>\n",
       "    <tr>\n",
       "      <th>B</th>\n",
       "      <td>6298.64</td>\n",
       "      <td>604</td>\n",
       "    </tr>\n",
       "    <tr>\n",
       "      <th>C</th>\n",
       "      <td>6315.57</td>\n",
       "      <td>579</td>\n",
       "    </tr>\n",
       "    <tr>\n",
       "      <th rowspan=\"3\" valign=\"top\">Yangon</th>\n",
       "      <th>A</th>\n",
       "      <td>6342.88</td>\n",
       "      <td>598</td>\n",
       "    </tr>\n",
       "    <tr>\n",
       "      <th>B</th>\n",
       "      <td>6329.25</td>\n",
       "      <td>631</td>\n",
       "    </tr>\n",
       "    <tr>\n",
       "      <th>C</th>\n",
       "      <td>5953.36</td>\n",
       "      <td>630</td>\n",
       "    </tr>\n",
       "  </tbody>\n",
       "</table>\n",
       "</div>"
      ],
      "text/plain": [
       "                  Unit price  Quantity\n",
       "City      Branch                      \n",
       "Mandalay  A          6349.11       637\n",
       "          B          6623.73       664\n",
       "          C          5506.04       519\n",
       "Naypyitaw A          5953.55       648\n",
       "          B          6298.64       604\n",
       "          C          6315.57       579\n",
       "Yangon    A          6342.88       598\n",
       "          B          6329.25       631\n",
       "          C          5953.36       630"
      ]
     },
     "execution_count": 20,
     "metadata": {},
     "output_type": "execute_result"
    }
   ],
   "source": [
    "sales=data.groupby([\"City\",\"Branch\"])[\"Unit price\",\"Quantity\"].sum()\n",
    "sales"
   ]
  },
  {
   "cell_type": "markdown",
   "id": "957baec4",
   "metadata": {},
   "source": [
    "- Here, in Mandalay city, Highest Unit Price is 6623 and Quantity is 664 in Branch B\n",
    "- In Naypyitaw city, Highest Unit Price is 6315 and Quantity is 648 in Branch \"C\" & \"A\"\n",
    "- In Yangon city, Highest Unit Price is 6343 and Quantity is 631 in Branch \"A\" & \"B\""
   ]
  },
  {
   "cell_type": "markdown",
   "id": "1691a115",
   "metadata": {},
   "source": [
    "## Revenue"
   ]
  },
  {
   "cell_type": "code",
   "execution_count": 21,
   "id": "ad2aa3b4",
   "metadata": {},
   "outputs": [
    {
     "data": {
      "text/plain": [
       "City       Branch\n",
       "Mandalay   A         4044383.07\n",
       "           B         4398156.72\n",
       "           C         2857634.76\n",
       "Naypyitaw  A         3857900.40\n",
       "           B         3804378.56\n",
       "           C         3656715.03\n",
       "Yangon     A         3793042.24\n",
       "           B         3993756.75\n",
       "           C         3750616.80\n",
       "dtype: float64"
      ]
     },
     "execution_count": 21,
     "metadata": {},
     "output_type": "execute_result"
    }
   ],
   "source": [
    "revenue=sales[\"Unit price\"]*sales[\"Quantity\"]\n",
    "revenue"
   ]
  },
  {
   "cell_type": "markdown",
   "id": "6b039fb6",
   "metadata": {},
   "source": [
    "## Created a bar chart for revenue by City"
   ]
  },
  {
   "cell_type": "code",
   "execution_count": 22,
   "id": "f94be16b",
   "metadata": {},
   "outputs": [
    {
     "data": {
      "image/png": "[encoded data removed]",
      "text/plain": [
       "<Figure size 600x400 with 1 Axes>"
      ]
     },
     "metadata": {},
     "output_type": "display_data"
    }
   ],
   "source": [
    "plt.figure(figsize=(6,4)) \n",
    "plt.bar(sales.index.get_level_values('City'), revenue)\n",
    "plt.xlabel('City')\n",
    "plt.ylabel('Revenue')\n",
    "plt.title('Revenue by City')\n",
    "plt.show()"
   ]
  },
  {
   "cell_type": "markdown",
   "id": "0e67ea41",
   "metadata": {},
   "source": [
    "- According to City, Mandalay City has highet Revenue"
   ]
  },
  {
   "cell_type": "markdown",
   "id": "dbf5923c",
   "metadata": {},
   "source": [
    "## Bar chart for Revenue by Branch"
   ]
  },
  {
   "cell_type": "code",
   "execution_count": 23,
   "id": "ebec10cc",
   "metadata": {},
   "outputs": [
    {
     "data": {
      "image/png": "[encoded data removed]",
      "text/plain": [
       "<Figure size 600x400 with 1 Axes>"
      ]
     },
     "metadata": {},
     "output_type": "display_data"
    }
   ],
   "source": [
    "plt.figure(figsize=(6,4))\n",
    "plt.bar(sales.index.get_level_values('Branch'),revenue)\n",
    "plt.xlabel('Branch')\n",
    "plt.ylabel('Revenue')\n",
    "plt.title('Revenue by Branch')\n",
    "plt.show()"
   ]
  },
  {
   "cell_type": "markdown",
   "id": "2dea80e0",
   "metadata": {},
   "source": [
    "- According to Branch, Branch-B has highest Revenue"
   ]
  },
  {
   "cell_type": "markdown",
   "id": "28e5fe85",
   "metadata": {},
   "source": [
    "## B. What is the average price of an item sold at each branch of the city."
   ]
  },
  {
   "cell_type": "code",
   "execution_count": 24,
   "id": "fa993a07",
   "metadata": {},
   "outputs": [
    {
     "data": {
      "text/plain": [
       "Branch\n",
       "A    54.360175\n",
       "B    56.622412\n",
       "C    56.072461\n",
       "Name: Unit price, dtype: float64"
      ]
     },
     "execution_count": 24,
     "metadata": {},
     "output_type": "execute_result"
    }
   ],
   "source": [
    "avg_price=data.groupby([\"Branch\"])[\"Unit price\"].mean()\n",
    "avg_price"
   ]
  },
  {
   "cell_type": "markdown",
   "id": "4315e0f4",
   "metadata": {},
   "source": [
    "- Here is the average Prices according to the Branch."
   ]
  },
  {
   "cell_type": "markdown",
   "id": "b4cb7173",
   "metadata": {},
   "source": [
    "## C. Analyze the performance of sales and revenue, Month over Month across th   Productline,      Gender, and Payment Method, and identify the focus areas to get better sales for April 2019."
   ]
  },
  {
   "cell_type": "markdown",
   "id": "8dc63598",
   "metadata": {},
   "source": [
    "## Month over Month Sales Analysis"
   ]
  },
  {
   "cell_type": "code",
   "execution_count": 25,
   "id": "08fb9732",
   "metadata": {},
   "outputs": [
    {
     "data": {
      "text/html": [
       "<div>\n",
       "<style scoped>\n",
       "    .dataframe tbody tr th:only-of-type {\n",
       "        vertical-align: middle;\n",
       "    }\n",
       "\n",
       "    .dataframe tbody tr th {\n",
       "        vertical-align: top;\n",
       "    }\n",
       "\n",
       "    .dataframe thead th {\n",
       "        text-align: right;\n",
       "    }\n",
       "</style>\n",
       "<table border=\"1\" class=\"dataframe\">\n",
       "  <thead>\n",
       "    <tr style=\"text-align: right;\">\n",
       "      <th></th>\n",
       "      <th></th>\n",
       "      <th></th>\n",
       "      <th></th>\n",
       "      <th>Unit price</th>\n",
       "      <th>Quantity</th>\n",
       "    </tr>\n",
       "    <tr>\n",
       "      <th>Month</th>\n",
       "      <th>Product line</th>\n",
       "      <th>Gender</th>\n",
       "      <th>Payment</th>\n",
       "      <th></th>\n",
       "      <th></th>\n",
       "    </tr>\n",
       "  </thead>\n",
       "  <tbody>\n",
       "    <tr>\n",
       "      <th rowspan=\"5\" valign=\"top\">1</th>\n",
       "      <th rowspan=\"5\" valign=\"top\">Electronic accessories</th>\n",
       "      <th rowspan=\"3\" valign=\"top\">Female</th>\n",
       "      <th>Cash</th>\n",
       "      <td>534.48</td>\n",
       "      <td>52</td>\n",
       "    </tr>\n",
       "    <tr>\n",
       "      <th>Credit card</th>\n",
       "      <td>371.20</td>\n",
       "      <td>54</td>\n",
       "    </tr>\n",
       "    <tr>\n",
       "      <th>Ewallet</th>\n",
       "      <td>251.77</td>\n",
       "      <td>43</td>\n",
       "    </tr>\n",
       "    <tr>\n",
       "      <th rowspan=\"2\" valign=\"top\">Male</th>\n",
       "      <th>Cash</th>\n",
       "      <td>552.72</td>\n",
       "      <td>62</td>\n",
       "    </tr>\n",
       "    <tr>\n",
       "      <th>Credit card</th>\n",
       "      <td>433.88</td>\n",
       "      <td>43</td>\n",
       "    </tr>\n",
       "    <tr>\n",
       "      <th>...</th>\n",
       "      <th>...</th>\n",
       "      <th>...</th>\n",
       "      <th>...</th>\n",
       "      <td>...</td>\n",
       "      <td>...</td>\n",
       "    </tr>\n",
       "    <tr>\n",
       "      <th rowspan=\"5\" valign=\"top\">3</th>\n",
       "      <th>Health and beauty</th>\n",
       "      <th>Male</th>\n",
       "      <th>Ewallet</th>\n",
       "      <td>603.07</td>\n",
       "      <td>64</td>\n",
       "    </tr>\n",
       "    <tr>\n",
       "      <th rowspan=\"4\" valign=\"top\">Home and lifestyle</th>\n",
       "      <th rowspan=\"3\" valign=\"top\">Female</th>\n",
       "      <th>Cash</th>\n",
       "      <td>451.91</td>\n",
       "      <td>42</td>\n",
       "    </tr>\n",
       "    <tr>\n",
       "      <th>Credit card</th>\n",
       "      <td>298.96</td>\n",
       "      <td>59</td>\n",
       "    </tr>\n",
       "    <tr>\n",
       "      <th>Ewallet</th>\n",
       "      <td>1017.20</td>\n",
       "      <td>103</td>\n",
       "    </tr>\n",
       "    <tr>\n",
       "      <th>Male</th>\n",
       "      <th>Cash</th>\n",
       "      <td>511.87</td>\n",
       "      <td>59</td>\n",
       "    </tr>\n",
       "  </tbody>\n",
       "</table>\n",
       "<p>100 rows × 2 columns</p>\n",
       "</div>"
      ],
      "text/plain": [
       "                                                 Unit price  Quantity\n",
       "Month Product line           Gender Payment                          \n",
       "1     Electronic accessories Female Cash             534.48        52\n",
       "                                    Credit card      371.20        54\n",
       "                                    Ewallet          251.77        43\n",
       "                             Male   Cash             552.72        62\n",
       "                                    Credit card      433.88        43\n",
       "...                                                     ...       ...\n",
       "3     Health and beauty      Male   Ewallet          603.07        64\n",
       "      Home and lifestyle     Female Cash             451.91        42\n",
       "                                    Credit card      298.96        59\n",
       "                                    Ewallet         1017.20       103\n",
       "                             Male   Cash             511.87        59\n",
       "\n",
       "[100 rows x 2 columns]"
      ]
     },
     "execution_count": 25,
     "metadata": {},
     "output_type": "execute_result"
    }
   ],
   "source": [
    "sales_analysis=data.groupby([\"Month\",\"Product line\",\"Gender\",\"Payment\"])[[\"Unit price\",\"Quantity\"]].sum()\n",
    "sales_analysis.head(100)"
   ]
  },
  {
   "cell_type": "markdown",
   "id": "0da15373",
   "metadata": {},
   "source": [
    "## Calculate Revenue and Compare Month Over Month Changes"
   ]
  },
  {
   "cell_type": "code",
   "execution_count": 26,
   "id": "b87244ac",
   "metadata": {},
   "outputs": [],
   "source": [
    "sales_analysis[\"Revenue\"]=sales_analysis[\"Unit price\"]*sales_analysis[\"Quantity\"]\n",
    "monthly_changes=sales_analysis.groupby([\"Product line\",\"Gender\",\"Payment\"])[\"Revenue\"].diff()"
   ]
  },
  {
   "cell_type": "markdown",
   "id": "da488ded",
   "metadata": {},
   "source": [
    "## Revenue"
   ]
  },
  {
   "cell_type": "code",
   "execution_count": 27,
   "id": "7b7cbdc1",
   "metadata": {},
   "outputs": [
    {
     "data": {
      "text/plain": [
       "Month  Product line            Gender  Payment    \n",
       "1      Electronic accessories  Female  Cash           27792.96\n",
       "                                       Credit card    20044.80\n",
       "                                       Ewallet        10826.11\n",
       "                               Male    Cash           34268.64\n",
       "                                       Credit card    18656.84\n",
       "                                                        ...   \n",
       "3      Sports and travel       Female  Credit card    22475.44\n",
       "                                       Ewallet        26494.17\n",
       "                               Male    Cash           17779.68\n",
       "                                       Credit card    29002.80\n",
       "                                       Ewallet        69225.70\n",
       "Name: Revenue, Length: 108, dtype: float64"
      ]
     },
     "execution_count": 27,
     "metadata": {},
     "output_type": "execute_result"
    }
   ],
   "source": [
    "sales_analysis[\"Revenue\"]"
   ]
  },
  {
   "cell_type": "markdown",
   "id": "d464f3a7",
   "metadata": {},
   "source": [
    "## Month Over Month Changes"
   ]
  },
  {
   "cell_type": "code",
   "execution_count": 28,
   "id": "7f85de9c",
   "metadata": {},
   "outputs": [
    {
     "data": {
      "text/plain": [
       "Month  Product line            Gender  Payment    \n",
       "1      Electronic accessories  Female  Cash                NaN\n",
       "                                       Credit card         NaN\n",
       "                                       Ewallet             NaN\n",
       "                               Male    Cash                NaN\n",
       "                                       Credit card         NaN\n",
       "                                                        ...   \n",
       "3      Sports and travel       Female  Credit card    12273.76\n",
       "                                       Ewallet       -17643.14\n",
       "                               Male    Cash            5548.23\n",
       "                                       Credit card    17915.79\n",
       "                                       Ewallet        65681.95\n",
       "Name: Revenue, Length: 108, dtype: float64"
      ]
     },
     "execution_count": 28,
     "metadata": {},
     "output_type": "execute_result"
    }
   ],
   "source": [
    "monthly_changes"
   ]
  },
  {
   "cell_type": "markdown",
   "id": "3b2475d5",
   "metadata": {},
   "source": [
    "- I have analyzed sales and revenue changes by month for product lines,gender,payment.Identified focus are for boosting sales in April 2019.To make business more profitable, it is important to look at growth and decline of products. we can use this information ti decide to focus on which product,which customer to target and the payment method to use for promotions and marketing. This can help improvement in business performance."
   ]
  },
  {
   "cell_type": "code",
   "execution_count": null,
   "id": "430f05e3",
   "metadata": {},
   "outputs": [],
   "source": []
  },
  {
   "cell_type": "code",
   "execution_count": null,
   "id": "1f018c8b",
   "metadata": {},
   "outputs": [],
   "source": []
  }
 ],
 "metadata": {
  "kernelspec": {
   "display_name": "Python 3 (ipykernel)",
   "language": "python",
   "name": "python3"
  },
  "language_info": {
   "codemirror_mode": {
    "name": "ipython",
    "version": 3
   },
   "file_extension": ".py",
   "mimetype": "text/x-python",
   "name": "python",
   "nbconvert_exporter": "python",
   "pygments_lexer": "ipython3",
   "version": "3.10.9"
  }
 },
 "nbformat": 4,
 "nbformat_minor": 5
}
